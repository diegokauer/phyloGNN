{
 "cells": [
  {
   "cell_type": "code",
   "execution_count": 1,
   "id": "e042dfa4-048b-4442-87b0-3fed6738b6bb",
   "metadata": {},
   "outputs": [],
   "source": [
    "import torch\n",
    "from torch_geometric.data import Data\n",
    "from torch_geometric.loader import DataLoader\n",
    "import pandas as pd\n",
    "import numpy as np\n",
    "\n",
    "from ete3 import Tree, PhyloTree, TreeStyle\n",
    "import networkx as nx\n",
    "\n",
    "from sklearn.model_selection import train_test_split\n",
    "from sklearn.metrics import roc_auc_score, RocCurveDisplay, confusion_matrix, PrecisionRecallDisplay, precision_recall_curve, auc"
   ]
  },
  {
   "cell_type": "code",
   "execution_count": 2,
   "id": "f80b4b3b-25b8-4f76-9861-1a915fc23ad1",
   "metadata": {},
   "outputs": [
    {
     "data": {
      "text/html": [
       "<div>\n",
       "<style scoped>\n",
       "    .dataframe tbody tr th:only-of-type {\n",
       "        vertical-align: middle;\n",
       "    }\n",
       "\n",
       "    .dataframe tbody tr th {\n",
       "        vertical-align: top;\n",
       "    }\n",
       "\n",
       "    .dataframe thead th {\n",
       "        text-align: right;\n",
       "    }\n",
       "</style>\n",
       "<table border=\"1\" class=\"dataframe\">\n",
       "  <thead>\n",
       "    <tr style=\"text-align: right;\">\n",
       "      <th></th>\n",
       "      <th>ASV</th>\n",
       "      <th>Kingdom</th>\n",
       "      <th>Phylum</th>\n",
       "      <th>Class</th>\n",
       "      <th>Order</th>\n",
       "      <th>Family</th>\n",
       "      <th>Genus</th>\n",
       "      <th>Species</th>\n",
       "    </tr>\n",
       "  </thead>\n",
       "  <tbody>\n",
       "    <tr>\n",
       "      <th>0</th>\n",
       "      <td>ASV10</td>\n",
       "      <td>Bacteria</td>\n",
       "      <td>Firmicutes</td>\n",
       "      <td>Bacilli</td>\n",
       "      <td>Lactobacillales</td>\n",
       "      <td>Streptococcaceae</td>\n",
       "      <td>Streptococcus</td>\n",
       "      <td>NaN</td>\n",
       "    </tr>\n",
       "    <tr>\n",
       "      <th>1</th>\n",
       "      <td>ASV13</td>\n",
       "      <td>Bacteria</td>\n",
       "      <td>Firmicutes</td>\n",
       "      <td>Bacilli</td>\n",
       "      <td>Lactobacillales</td>\n",
       "      <td>Streptococcaceae</td>\n",
       "      <td>Streptococcus</td>\n",
       "      <td>NaN</td>\n",
       "    </tr>\n",
       "    <tr>\n",
       "      <th>2</th>\n",
       "      <td>ASV15</td>\n",
       "      <td>Bacteria</td>\n",
       "      <td>Firmicutes</td>\n",
       "      <td>Negativicutes</td>\n",
       "      <td>Veillonellales-Selenomonadales</td>\n",
       "      <td>Veillonellaceae</td>\n",
       "      <td>Veillonella</td>\n",
       "      <td>dispar</td>\n",
       "    </tr>\n",
       "    <tr>\n",
       "      <th>3</th>\n",
       "      <td>ASV29</td>\n",
       "      <td>Bacteria</td>\n",
       "      <td>Firmicutes</td>\n",
       "      <td>Negativicutes</td>\n",
       "      <td>Veillonellales-Selenomonadales</td>\n",
       "      <td>Veillonellaceae</td>\n",
       "      <td>Veillonella</td>\n",
       "      <td>atypica</td>\n",
       "    </tr>\n",
       "    <tr>\n",
       "      <th>4</th>\n",
       "      <td>ASV3</td>\n",
       "      <td>Bacteria</td>\n",
       "      <td>Firmicutes</td>\n",
       "      <td>Bacilli</td>\n",
       "      <td>Lactobacillales</td>\n",
       "      <td>Streptococcaceae</td>\n",
       "      <td>Streptococcus</td>\n",
       "      <td>NaN</td>\n",
       "    </tr>\n",
       "  </tbody>\n",
       "</table>\n",
       "</div>"
      ],
      "text/plain": [
       "     ASV   Kingdom      Phylum          Class                           Order  \\\n",
       "0  ASV10  Bacteria  Firmicutes        Bacilli                 Lactobacillales   \n",
       "1  ASV13  Bacteria  Firmicutes        Bacilli                 Lactobacillales   \n",
       "2  ASV15  Bacteria  Firmicutes  Negativicutes  Veillonellales-Selenomonadales   \n",
       "3  ASV29  Bacteria  Firmicutes  Negativicutes  Veillonellales-Selenomonadales   \n",
       "4   ASV3  Bacteria  Firmicutes        Bacilli                 Lactobacillales   \n",
       "\n",
       "             Family          Genus  Species  \n",
       "0  Streptococcaceae  Streptococcus      NaN  \n",
       "1  Streptococcaceae  Streptococcus      NaN  \n",
       "2   Veillonellaceae    Veillonella   dispar  \n",
       "3   Veillonellaceae    Veillonella  atypica  \n",
       "4  Streptococcaceae  Streptococcus      NaN  "
      ]
     },
     "execution_count": 2,
     "metadata": {},
     "output_type": "execute_result"
    }
   ],
   "source": [
    "taxa_data = pd.read_csv(\"data/dataset_CH/microbiote_data/lung/lung_16S_taxa_table_all_samples.csv\", sep=\";\", index_col=0)\n",
    "taxa_data.reset_index(inplace=True, names=\"ASV\")\n",
    "\n",
    "taxa_data.head()"
   ]
  },
  {
   "cell_type": "code",
   "execution_count": 3,
   "id": "14719ef9-975c-4e47-9543-38c7765e5f28",
   "metadata": {},
   "outputs": [],
   "source": [
    "delta_lung = pd.read_csv(\"data/dataset_CH/clean_data/lung_clean/delta_lung_16S.csv\")\n",
    "lung_count = pd.read_csv(\"data/dataset_CH/microbiote_data/lung/lung_16St_asv_table_all_samples.csv\", sep = \";\", index_col=0).reset_index(names=\"id_sample\")"
   ]
  },
  {
   "cell_type": "code",
   "execution_count": 4,
   "id": "d055c20e-1672-46d9-85c6-170e4e670e42",
   "metadata": {},
   "outputs": [],
   "source": [
    "merged_data = delta_lung[delta_lung.Time == \"M0\"].merge(lung_count)\n",
    "merged_data.head()\n",
    "merged_data = pd.get_dummies(data=merged_data, columns=[\"group\"], drop_first=True)\n",
    "\n",
    "train, test = train_test_split(merged_data, random_state=50, shuffle=True, test_size=0.2, stratify=merged_data.group_Improvement)"
   ]
  },
  {
   "cell_type": "code",
   "execution_count": 5,
   "id": "fccb7d41-64c2-443f-b123-9c49b97e93e7",
   "metadata": {},
   "outputs": [
    {
     "data": {
      "text/plain": [
       "(0.7413793103448276, 0.7333333333333333)"
      ]
     },
     "execution_count": 5,
     "metadata": {},
     "output_type": "execute_result"
    }
   ],
   "source": [
    "train.group_Improvement.sum() / len(train), test.group_Improvement.sum() / len(test)"
   ]
  },
  {
   "cell_type": "code",
   "execution_count": 6,
   "id": "0a754c3c-41b9-4ced-9148-a223baaec558",
   "metadata": {},
   "outputs": [
    {
     "data": {
      "text/html": [
       "<div>\n",
       "<style scoped>\n",
       "    .dataframe tbody tr th:only-of-type {\n",
       "        vertical-align: middle;\n",
       "    }\n",
       "\n",
       "    .dataframe tbody tr th {\n",
       "        vertical-align: top;\n",
       "    }\n",
       "\n",
       "    .dataframe thead th {\n",
       "        text-align: right;\n",
       "    }\n",
       "</style>\n",
       "<table border=\"1\" class=\"dataframe\">\n",
       "  <thead>\n",
       "    <tr style=\"text-align: right;\">\n",
       "      <th></th>\n",
       "      <th>id_patient</th>\n",
       "      <th>bmi_zscore_M0</th>\n",
       "      <th>bmi_zscore_M12</th>\n",
       "      <th>delta_bmi</th>\n",
       "      <th>X</th>\n",
       "      <th>id_sample</th>\n",
       "      <th>Time</th>\n",
       "      <th>Groupe</th>\n",
       "      <th>Sexe</th>\n",
       "      <th>Age</th>\n",
       "      <th>...</th>\n",
       "      <th>ASV984</th>\n",
       "      <th>ASV986</th>\n",
       "      <th>ASV987</th>\n",
       "      <th>ASV99</th>\n",
       "      <th>ASV991</th>\n",
       "      <th>ASV994</th>\n",
       "      <th>ASV995</th>\n",
       "      <th>ASV998</th>\n",
       "      <th>ASV999</th>\n",
       "      <th>group_Improvement</th>\n",
       "    </tr>\n",
       "  </thead>\n",
       "  <tbody>\n",
       "    <tr>\n",
       "      <th>65</th>\n",
       "      <td>LIB85</td>\n",
       "      <td>0.1152</td>\n",
       "      <td>-0.1037</td>\n",
       "      <td>-0.2189</td>\n",
       "      <td>358</td>\n",
       "      <td>D4C</td>\n",
       "      <td>M0</td>\n",
       "      <td>AFter</td>\n",
       "      <td>F</td>\n",
       "      <td>5.347945</td>\n",
       "      <td>...</td>\n",
       "      <td>0</td>\n",
       "      <td>0</td>\n",
       "      <td>0</td>\n",
       "      <td>0</td>\n",
       "      <td>0</td>\n",
       "      <td>0</td>\n",
       "      <td>0</td>\n",
       "      <td>0</td>\n",
       "      <td>0</td>\n",
       "      <td>False</td>\n",
       "    </tr>\n",
       "    <tr>\n",
       "      <th>72</th>\n",
       "      <td>LIB97</td>\n",
       "      <td>-0.0353</td>\n",
       "      <td>1.3954</td>\n",
       "      <td>1.4307</td>\n",
       "      <td>384</td>\n",
       "      <td>B2C</td>\n",
       "      <td>M0</td>\n",
       "      <td>AFter</td>\n",
       "      <td>F</td>\n",
       "      <td>11.906849</td>\n",
       "      <td>...</td>\n",
       "      <td>0</td>\n",
       "      <td>0</td>\n",
       "      <td>0</td>\n",
       "      <td>0</td>\n",
       "      <td>0</td>\n",
       "      <td>0</td>\n",
       "      <td>0</td>\n",
       "      <td>0</td>\n",
       "      <td>0</td>\n",
       "      <td>True</td>\n",
       "    </tr>\n",
       "    <tr>\n",
       "      <th>57</th>\n",
       "      <td>LIB59</td>\n",
       "      <td>1.4914</td>\n",
       "      <td>2.3644</td>\n",
       "      <td>0.8730</td>\n",
       "      <td>290</td>\n",
       "      <td>E6C</td>\n",
       "      <td>M0</td>\n",
       "      <td>AFter</td>\n",
       "      <td>F</td>\n",
       "      <td>11.687671</td>\n",
       "      <td>...</td>\n",
       "      <td>0</td>\n",
       "      <td>0</td>\n",
       "      <td>0</td>\n",
       "      <td>0</td>\n",
       "      <td>0</td>\n",
       "      <td>0</td>\n",
       "      <td>0</td>\n",
       "      <td>0</td>\n",
       "      <td>0</td>\n",
       "      <td>True</td>\n",
       "    </tr>\n",
       "    <tr>\n",
       "      <th>0</th>\n",
       "      <td>LIB1</td>\n",
       "      <td>1.0432</td>\n",
       "      <td>1.1012</td>\n",
       "      <td>0.0580</td>\n",
       "      <td>2</td>\n",
       "      <td>D6C</td>\n",
       "      <td>M0</td>\n",
       "      <td>AFter</td>\n",
       "      <td>M</td>\n",
       "      <td>11.739726</td>\n",
       "      <td>...</td>\n",
       "      <td>37</td>\n",
       "      <td>0</td>\n",
       "      <td>0</td>\n",
       "      <td>0</td>\n",
       "      <td>0</td>\n",
       "      <td>0</td>\n",
       "      <td>0</td>\n",
       "      <td>0</td>\n",
       "      <td>0</td>\n",
       "      <td>True</td>\n",
       "    </tr>\n",
       "    <tr>\n",
       "      <th>1</th>\n",
       "      <td>LIB10</td>\n",
       "      <td>-0.2122</td>\n",
       "      <td>-1.5807</td>\n",
       "      <td>-1.3685</td>\n",
       "      <td>4</td>\n",
       "      <td>N7C</td>\n",
       "      <td>M0</td>\n",
       "      <td>AFter</td>\n",
       "      <td>M</td>\n",
       "      <td>4.490411</td>\n",
       "      <td>...</td>\n",
       "      <td>0</td>\n",
       "      <td>0</td>\n",
       "      <td>0</td>\n",
       "      <td>0</td>\n",
       "      <td>0</td>\n",
       "      <td>0</td>\n",
       "      <td>0</td>\n",
       "      <td>0</td>\n",
       "      <td>0</td>\n",
       "      <td>False</td>\n",
       "    </tr>\n",
       "  </tbody>\n",
       "</table>\n",
       "<p>5 rows × 1007 columns</p>\n",
       "</div>"
      ],
      "text/plain": [
       "   id_patient  bmi_zscore_M0  bmi_zscore_M12  delta_bmi    X id_sample Time  \\\n",
       "65      LIB85         0.1152         -0.1037    -0.2189  358       D4C   M0   \n",
       "72      LIB97        -0.0353          1.3954     1.4307  384       B2C   M0   \n",
       "57      LIB59         1.4914          2.3644     0.8730  290       E6C   M0   \n",
       "0        LIB1         1.0432          1.1012     0.0580    2       D6C   M0   \n",
       "1       LIB10        -0.2122         -1.5807    -1.3685    4       N7C   M0   \n",
       "\n",
       "   Groupe Sexe        Age  ...  ASV984  ASV986  ASV987  ASV99 ASV991 ASV994  \\\n",
       "65  AFter    F   5.347945  ...       0       0       0      0      0      0   \n",
       "72  AFter    F  11.906849  ...       0       0       0      0      0      0   \n",
       "57  AFter    F  11.687671  ...       0       0       0      0      0      0   \n",
       "0   AFter    M  11.739726  ...      37       0       0      0      0      0   \n",
       "1   AFter    M   4.490411  ...       0       0       0      0      0      0   \n",
       "\n",
       "    ASV995 ASV998  ASV999  group_Improvement  \n",
       "65       0      0       0              False  \n",
       "72       0      0       0               True  \n",
       "57       0      0       0               True  \n",
       "0        0      0       0               True  \n",
       "1        0      0       0              False  \n",
       "\n",
       "[5 rows x 1007 columns]"
      ]
     },
     "execution_count": 6,
     "metadata": {},
     "output_type": "execute_result"
    }
   ],
   "source": [
    "test.head()"
   ]
  },
  {
   "cell_type": "code",
   "execution_count": 7,
   "id": "0a1dec6f-96d4-4d95-837c-3c18b7ed483a",
   "metadata": {},
   "outputs": [],
   "source": [
    "taxa_columns = taxa_data.columns[1:]\n",
    "\n",
    "tree = Tree(name=\"Bacteria\")\n",
    "node_dict = {\"Bacteria\": tree}\n",
    "\n",
    "\n",
    "for _, row in taxa_data.iterrows():\n",
    "    lineage = (row[1:]._append(row[:1])).dropna().to_list() # Append ASV to the end\n",
    "    # lineage = row[1:].dropna().to_list()\n",
    "    current_node = tree\n",
    "\n",
    "    for taxon in lineage:\n",
    "        if taxon not in node_dict:\n",
    "            new_node = current_node.add_child(name=taxon)\n",
    "            node_dict[taxon] = new_node\n",
    "        current_node = node_dict[taxon]"
   ]
  },
  {
   "cell_type": "code",
   "execution_count": 8,
   "id": "c1a9934e-345d-49f7-aafe-cd205d949fb0",
   "metadata": {},
   "outputs": [],
   "source": [
    "G = nx.DiGraph()\n",
    "\n",
    "taxa_to_id = {\"Bacteria\": 0}\n",
    "id_to_taxa = {0: \"Bacteria\"}\n",
    "idx = 1\n",
    "\n",
    "for node in tree.traverse():\n",
    "    for child in node.children:\n",
    "        taxa_to_id[child.name] = idx\n",
    "        id_to_taxa[idx] = child.name\n",
    "        idx += 1\n",
    "        G.add_edge(node.name, child.name)\n",
    "\n",
    "    # Add edges connecting the leaves of the same parent\n",
    "    leaves = [child.name for child in node.children if child.is_leaf()]\n",
    "    for i in range(len(leaves)):\n",
    "        for j in range(len(leaves)):\n",
    "            if i!=j:\n",
    "                G.add_edge(leaves[i], leaves[j])\n",
    "\n",
    "# Convert graph to adjacency matrix\n",
    "adj_matrix = nx.adjacency_matrix(G).todense()\n",
    "\n",
    "assert len(adj_matrix) == len(id_to_taxa) and len(id_to_taxa) == len(taxa_to_id)\n",
    "\n",
    "for i in range(len(adj_matrix)):\n",
    "    for j in range(len(adj_matrix)):\n",
    "        if adj_matrix[i,j] == 1:\n",
    "            adj_matrix[j,i] = 1"
   ]
  },
  {
   "cell_type": "code",
   "execution_count": 9,
   "id": "798e5e67-0974-48ac-aa56-5471310a9485",
   "metadata": {},
   "outputs": [
    {
     "name": "stdout",
     "output_type": "stream",
     "text": [
      "[[   0    0    0 ... 1255 1256 1256]\n",
      " [   1    2    3 ... 1256 1059 1255]]\n"
     ]
    }
   ],
   "source": [
    "row_idx, col_idx = np.where(adj_matrix == 1)\n",
    "\n",
    "# Stack them into a COO matrix format\n",
    "coo_matrix = np.vstack((row_idx, col_idx))\n",
    "\n",
    "print(coo_matrix)"
   ]
  },
  {
   "cell_type": "code",
   "execution_count": 10,
   "id": "b85d8865-9795-4303-ac7d-ef84da9fcbcb",
   "metadata": {},
   "outputs": [],
   "source": [
    "def propagate(node):\n",
    "    if node.is_leaf():\n",
    "        return node.count\n",
    "    count = sum([propagate(child) for child in node.children])\n",
    "    node.add_feature(\"count\", count)\n",
    "    return count"
   ]
  },
  {
   "cell_type": "code",
   "execution_count": 11,
   "id": "49937aea-278e-413f-b565-d0a5af584030",
   "metadata": {},
   "outputs": [],
   "source": [
    "def get_dataset(df):\n",
    "    dataset = []\n",
    "    columns = [i for i in df.columns if \"ASV\" in i]\n",
    "    \n",
    "    for _, row in df.iterrows():\n",
    "    \n",
    "        node_features = np.zeros((len(id_to_taxa),1))\n",
    "        edge_features = np.zeros((coo_matrix.shape[1], 1))\n",
    "        \n",
    "        # reset\n",
    "        for node in tree.traverse():\n",
    "            node.add_feature(\"count\", 0)\n",
    "        \n",
    "        present_asv = [asv for asv in columns if row[asv] > 0]\n",
    "        for asv in present_asv:\n",
    "            leaf = tree.get_leaves_by_name(asv)[0]\n",
    "            leaf.add_feature(\"count\", row[asv])\n",
    "    \n",
    "        propagate(tree)\n",
    "    \n",
    "        for node in tree.traverse():\n",
    "            idx = taxa_to_id[node.name]\n",
    "            if node.count > 0:\n",
    "                node_features[idx, 0] = node.count\n",
    "            for child in node.children:\n",
    "                if child.count > 0:\n",
    "                    idy = taxa_to_id[child.name]\n",
    "                    mask = ((coo_matrix[0] == idx) & (coo_matrix[1] == idy) | (coo_matrix[0] == idy) & (coo_matrix[1] == idx))\n",
    "                    edge_features[mask, 0] = 1\n",
    "            \n",
    "            leaves = [child.name for child in node.children if child.is_leaf() and child.count > 0]\n",
    "            for i in range(len(leaves)):\n",
    "                for j in range(len(leaves)):\n",
    "                    if i!=j:\n",
    "                        idx = taxa_to_id[leaves[i]]\n",
    "                        idy = taxa_to_id[leaves[j]]\n",
    "                        mask = ((coo_matrix[0] == idx) & (coo_matrix[1] == idy) | (coo_matrix[0] == idy) & (coo_matrix[1] == idx))\n",
    "                        edge_features[mask, 0] = 1\n",
    "        dataset.append(Data(\n",
    "            x=torch.tensor(node_features / node_features.max(), dtype=torch.float32),\n",
    "            edge_index=torch.tensor(coo_matrix),\n",
    "            edge_attr=torch.tensor(edge_features, dtype=torch.float32),\n",
    "            y = torch.tensor(row[\"group_Improvement\"], dtype=torch.float32)\n",
    "        ))\n",
    "\n",
    "    return dataset"
   ]
  },
  {
   "cell_type": "code",
   "execution_count": 12,
   "id": "e487d311-bec5-4dda-b74f-f583c4a87872",
   "metadata": {},
   "outputs": [],
   "source": [
    "train_list = get_dataset(train)\n",
    "test_list = get_dataset(test)"
   ]
  },
  {
   "cell_type": "code",
   "execution_count": 13,
   "id": "fed5772a-7e20-40a8-9f9d-2ff7db1f3be3",
   "metadata": {},
   "outputs": [
    {
     "data": {
      "text/plain": [
       "(58, 15)"
      ]
     },
     "execution_count": 13,
     "metadata": {},
     "output_type": "execute_result"
    }
   ],
   "source": [
    "len(train_list), len(test_list)"
   ]
  },
  {
   "cell_type": "code",
   "execution_count": 14,
   "id": "2d73cb6b-bd76-49e2-a2e5-7a478d1db39a",
   "metadata": {},
   "outputs": [],
   "source": [
    "complete_train_loader = DataLoader(train_list, batch_size=4, shuffle=True)\n",
    "complete_test_loader = DataLoader(test_list, batch_size=4, shuffle=False)"
   ]
  },
  {
   "cell_type": "code",
   "execution_count": 15,
   "id": "183bcd76-205a-458b-b121-d4228d064308",
   "metadata": {},
   "outputs": [],
   "source": [
    "import torch\n",
    "import torch.nn.functional as F\n",
    "from torch_geometric.nn import GINConv, global_add_pool, BatchNorm\n",
    "from torch_geometric.nn import MLP\n",
    "\n",
    "class GIN(torch.nn.Module):\n",
    "    def __init__(self, input_dim=1, hidden_dim=64, output_dim=1, num_layers=2, dropout=0.5):\n",
    "        super(GIN, self).__init__()\n",
    "        self.convs = torch.nn.ModuleList()\n",
    "        self.bns = torch.nn.ModuleList()  # BatchNorm layer\n",
    "        self.dropout = dropout\n",
    "        \n",
    "        # First layer: input_dim -> hidden_dim\n",
    "        mlp = MLP([input_dim, hidden_dim])\n",
    "        self.convs.append(GINConv(mlp))\n",
    "        self.bns.append(BatchNorm(hidden_dim))  # BatchNorm for first layer\n",
    "\n",
    "        # Middle layers: hidden_dim -> hidden_dim\n",
    "        for _ in range(num_layers - 1):\n",
    "            mlp = MLP([hidden_dim, hidden_dim])\n",
    "            self.convs.append(GINConv(mlp))\n",
    "            self.bns.append(BatchNorm(hidden_dim))  # BatchNorm for each layer\n",
    "        \n",
    "        self.fc = torch.nn.Linear(hidden_dim, output_dim)  # Final classification layer\n",
    "\n",
    "    def forward(self, data):\n",
    "        x, edge_index, batch = data.x, data.edge_index, data.batch\n",
    "        for conv, bn in zip(self.convs, self.bns):\n",
    "            x = conv(x, edge_index)\n",
    "            x = bn(x)  # Apply batch normalization\n",
    "            x = F.relu(x)\n",
    "            x = F.dropout(x, p=self.dropout, training=self.training)  # Apply dropout\n",
    "\n",
    "        x = global_add_pool(x, batch)  # Sum pooling for graph-level representation\n",
    "        x = self.fc(x)\n",
    "        return x"
   ]
  },
  {
   "cell_type": "code",
   "execution_count": 16,
   "id": "05a3138f-8f48-4423-81a7-9a888579ab91",
   "metadata": {},
   "outputs": [],
   "source": [
    "device = torch.device('cuda' if torch.cuda.is_available() else 'cpu')\n",
    "# device = 'cpu'\n",
    "model = GIN().to(device)\n",
    "optimizer = torch.optim.Adam(model.parameters())\n",
    "criterion = F.binary_cross_entropy_with_logits"
   ]
  },
  {
   "cell_type": "code",
   "execution_count": 17,
   "id": "6370eb1d-3ed5-42df-b49f-9ee357537d09",
   "metadata": {},
   "outputs": [],
   "source": [
    "def train_model(model, train_loader, optimizer, criterion, device):\n",
    "    model.train()\n",
    "    for batch in train_loader:\n",
    "        batch = batch.to(device)\n",
    "        optimizer.zero_grad()\n",
    "        out = model(batch).squeeze() \n",
    "        loss = criterion(out, batch.y)\n",
    "        loss.backward()\n",
    "        optimizer.step()\n",
    "\n",
    "def evaluate_model(model, val_loader, metric, device):\n",
    "    model.eval()\n",
    "    predictions = []\n",
    "    true_labels = []\n",
    "    with torch.no_grad():\n",
    "        for batch in val_loader:\n",
    "            batch = batch.to(device)\n",
    "            out = model(batch).squeeze()  # Forward pass\n",
    "            pred = F.sigmoid(out).cpu()  # Store predictions (move to CPU)\n",
    "            if pred.shape[0] > 1:\n",
    "                predictions += pred.flatten().tolist()\n",
    "                true_labels += batch.y.cpu().flatten().tolist()  # Store true labels\n",
    "            else:\n",
    "                predictions.append(pred.item())\n",
    "                true_labels.append(batch.y.cpu().item())  # Store true labels\n",
    "    return metric(true_labels, predictions), true_labels, predictions"
   ]
  },
  {
   "cell_type": "code",
   "execution_count": 18,
   "id": "1dccc2ea-117a-446b-908f-0078c76639ab",
   "metadata": {},
   "outputs": [
    {
     "name": "stdout",
     "output_type": "stream",
     "text": [
      "Fold 1/5\n",
      "Fold 1 ROC-AUC: 0.4219, Test ROC-AUC: 0.5227\n",
      "Fold 2/5\n",
      "Fold 2 ROC-AUC: 0.2031, Test ROC-AUC: 0.5455\n",
      "Fold 3/5\n",
      "Fold 3 ROC-AUC: 0.3704, Test ROC-AUC: 0.4545\n",
      "Fold 4/5\n",
      "Fold 4 ROC-AUC: 0.4375, Test ROC-AUC: 0.4091\n",
      "Fold 5/5\n",
      "Fold 5 ROC-AUC: 0.7000, Test ROC-AUC: 0.5000\n",
      "Mean AUC: 0.4266 ± 0.1600\n"
     ]
    }
   ],
   "source": [
    "from sklearn.model_selection import KFold\n",
    "\n",
    "torch.manual_seed(42)\n",
    "device = torch.device('cuda' if torch.cuda.is_available() else 'cpu')\n",
    "\n",
    "# k-Fold Cross-Validation\n",
    "k = 5\n",
    "kf = KFold(n_splits=k, shuffle=True, random_state=42)\n",
    "cv_aucs = []\n",
    "epochs = 30\n",
    "criterion = F.binary_cross_entropy_with_logits\n",
    "metric = roc_auc_score\n",
    "lr = 1e-3\n",
    "weight_decay = 1e-5\n",
    "\n",
    "for fold, (train_idx, val_idx) in enumerate(kf.split(train_list)):\n",
    "    print(f\"Fold {fold+1}/{k}\")\n",
    "\n",
    "    train_dataset = [train_list[i] for i in train_idx]\n",
    "    val_dataset = [train_list[i] for i in val_idx]\n",
    "    train_loader = DataLoader(train_dataset, batch_size=4, shuffle=True)\n",
    "    val_loader = DataLoader(val_dataset, batch_size=4, shuffle=False)\n",
    "\n",
    "    model = GIN().to(device)\n",
    "    optimizer = torch.optim.Adam(model.parameters(), lr=lr, weight_decay=weight_decay)\n",
    "\n",
    "    for epoch in range(epochs):  # Adjust epochs\n",
    "        train_model(model, train_loader, optimizer, criterion, device)\n",
    "\n",
    "    auc, _, _ = evaluate_model(model, val_loader, metric, device)\n",
    "    test_auc, _, _ = evaluate_model(model, complete_test_loader, metric, device)\n",
    "    cv_aucs.append(auc)\n",
    "    print(f\"Fold {fold+1} ROC-AUC: {auc:.4f}, Test ROC-AUC: {test_auc:.4f}\")\n",
    "\n",
    "print(f\"Mean AUC: {np.mean(cv_aucs):.4f} ± {np.std(cv_aucs):.4f}\")"
   ]
  },
  {
   "cell_type": "code",
   "execution_count": 19,
   "id": "9ceca017-8ba3-44b9-8664-9c0637a36588",
   "metadata": {},
   "outputs": [
    {
     "name": "stdout",
     "output_type": "stream",
     "text": [
      "Train AUC: 0.7131782945736433, Test AUC: 0.4090909090909091\n"
     ]
    },
    {
     "data": {
      "text/plain": [
       "<sklearn.metrics._plot.roc_curve.RocCurveDisplay at 0x1b2195f8280>"
      ]
     },
     "execution_count": 19,
     "metadata": {},
     "output_type": "execute_result"
    },
    {
     "data": {
      "image/png": "[encoded data removed]",
      "text/plain": [
       "<Figure size 640x480 with 1 Axes>"
      ]
     },
     "metadata": {},
     "output_type": "display_data"
    }
   ],
   "source": [
    "model = GIN().to(device)\n",
    "model.train()\n",
    "optimizer = torch.optim.Adam(model.parameters(), lr=lr, weight_decay=weight_decay)\n",
    "for epoch in range(epochs):  # Use same number of epochs as in CV\n",
    "    train_model(model, complete_train_loader, optimizer, criterion, device)\n",
    "train_auc, _, _ = evaluate_model(model, complete_train_loader, metric, device)\n",
    "model.train()\n",
    "test_auc, true_labels, predictions = evaluate_model(model, complete_test_loader, metric, device)\n",
    "print(f\"Train AUC: {train_auc}, Test AUC: {test_auc}\")\n",
    "\n",
    "\n",
    "RocCurveDisplay.from_predictions(true_labels, predictions)"
   ]
  },
  {
   "cell_type": "code",
   "execution_count": 20,
   "id": "a2de90d3-a895-4f2e-af9b-2fee531e39de",
   "metadata": {},
   "outputs": [
    {
     "name": "stderr",
     "output_type": "stream",
     "text": [
      "C:\\Users\\Usuario\\AppData\\Local\\Temp\\ipykernel_38540\\1029592855.py:2: FutureWarning: You are using `torch.load` with `weights_only=False` (the current default value), which uses the default pickle module implicitly. It is possible to construct malicious pickle data which will execute arbitrary code during unpickling (See https://github.com/pytorch/pytorch/blob/main/SECURITY.md#untrusted-models for more details). In a future release, the default value for `weights_only` will be flipped to `True`. This limits the functions that could be executed during unpickling. Arbitrary objects will no longer be allowed to be loaded via this mode unless they are explicitly allowlisted by the user via `torch.serialization.add_safe_globals`. We recommend you start setting `weights_only=True` for any use case where you don't have full control of the loaded file. Please open an issue on GitHub for any issues related to this experimental feature.\n",
      "  model = torch.load(\"phylo_gnn/experiments/best_model_exp_1-f.pt\")\n"
     ]
    }
   ],
   "source": [
    "# torch.save(model, \"experiment2_cv5_model_auc_0.66.pt\")\n",
    "model = torch.load(\"phylo_gnn/experiments/best_model_exp_1-f.pt\")"
   ]
  },
  {
   "cell_type": "code",
   "execution_count": 23,
   "id": "c1ca14e1-3ee1-4d22-aad5-76a3c4e7cbd3",
   "metadata": {},
   "outputs": [
    {
     "ename": "ValueError",
     "evalue": "y_true takes value in {} and pos_label is not specified: either make y_true take value in {0, 1} or {-1, 1} or pass pos_label explicitly.",
     "output_type": "error",
     "traceback": [
      "\u001b[1;31m---------------------------------------------------------------------------\u001b[0m",
      "\u001b[1;31mValueError\u001b[0m                                Traceback (most recent call last)",
      "Cell \u001b[1;32mIn[23], line 11\u001b[0m\n\u001b[0;32m      7\u001b[0m fig, ax \u001b[38;5;241m=\u001b[39m plt\u001b[38;5;241m.\u001b[39msubplots()\n\u001b[0;32m      9\u001b[0m \u001b[38;5;66;03m# RocCurveDisplay.from_predictions(train_true_labels, train_predictions, name=\"Train Set (n=58)\", ax=ax)\u001b[39;00m\n\u001b[0;32m     10\u001b[0m \u001b[38;5;66;03m# RocCurveDisplay.from_predictions(test_true_labels, test_predictions, name=\"Test Set (n=15)\", ax=ax)\u001b[39;00m\n\u001b[1;32m---> 11\u001b[0m \u001b[43mRocCurveDisplay\u001b[49m\u001b[38;5;241;43m.\u001b[39;49m\u001b[43mfrom_predictions\u001b[49m\u001b[43m(\u001b[49m\u001b[43m[\u001b[49m\u001b[43m]\u001b[49m\u001b[43m,\u001b[49m\u001b[43m \u001b[49m\u001b[43m[\u001b[49m\u001b[43m]\u001b[49m\u001b[43m,\u001b[49m\u001b[43m \u001b[49m\u001b[43mname\u001b[49m\u001b[38;5;241;43m=\u001b[39;49m\u001b[38;5;124;43m\"\u001b[39;49m\u001b[38;5;124;43mComplete Set (n=73)\u001b[39;49m\u001b[38;5;124;43m\"\u001b[39;49m\u001b[43m,\u001b[49m\u001b[43m \u001b[49m\u001b[43max\u001b[49m\u001b[38;5;241;43m=\u001b[39;49m\u001b[43max\u001b[49m\u001b[43m,\u001b[49m\u001b[43m \u001b[49m\u001b[43mplot_chance_level\u001b[49m\u001b[38;5;241;43m=\u001b[39;49m\u001b[38;5;28;43;01mTrue\u001b[39;49;00m\u001b[43m)\u001b[49m\n\u001b[0;32m     13\u001b[0m plt\u001b[38;5;241m.\u001b[39mshow()\n",
      "File \u001b[1;32m~\\.conda\\envs\\cf-gpu\\lib\\site-packages\\sklearn\\metrics\\_plot\\roc_curve.py:386\u001b[0m, in \u001b[0;36mRocCurveDisplay.from_predictions\u001b[1;34m(cls, y_true, y_pred, sample_weight, drop_intermediate, pos_label, name, ax, plot_chance_level, chance_level_kw, **kwargs)\u001b[0m\n\u001b[0;32m    291\u001b[0m \u001b[38;5;129m@classmethod\u001b[39m\n\u001b[0;32m    292\u001b[0m \u001b[38;5;28;01mdef\u001b[39;00m \u001b[38;5;21mfrom_predictions\u001b[39m(\n\u001b[0;32m    293\u001b[0m     \u001b[38;5;28mcls\u001b[39m,\n\u001b[1;32m   (...)\u001b[0m\n\u001b[0;32m    304\u001b[0m     \u001b[38;5;241m*\u001b[39m\u001b[38;5;241m*\u001b[39mkwargs,\n\u001b[0;32m    305\u001b[0m ):\n\u001b[0;32m    306\u001b[0m \u001b[38;5;250m    \u001b[39m\u001b[38;5;124;03m\"\"\"Plot ROC curve given the true and predicted values.\u001b[39;00m\n\u001b[0;32m    307\u001b[0m \n\u001b[0;32m    308\u001b[0m \u001b[38;5;124;03m    Read more in the :ref:`User Guide <visualizations>`.\u001b[39;00m\n\u001b[1;32m   (...)\u001b[0m\n\u001b[0;32m    384\u001b[0m \u001b[38;5;124;03m    >>> plt.show()\u001b[39;00m\n\u001b[0;32m    385\u001b[0m \u001b[38;5;124;03m    \"\"\"\u001b[39;00m\n\u001b[1;32m--> 386\u001b[0m     pos_label_validated, name \u001b[38;5;241m=\u001b[39m \u001b[38;5;28;43mcls\u001b[39;49m\u001b[38;5;241;43m.\u001b[39;49m\u001b[43m_validate_from_predictions_params\u001b[49m\u001b[43m(\u001b[49m\n\u001b[0;32m    387\u001b[0m \u001b[43m        \u001b[49m\u001b[43my_true\u001b[49m\u001b[43m,\u001b[49m\u001b[43m \u001b[49m\u001b[43my_pred\u001b[49m\u001b[43m,\u001b[49m\u001b[43m \u001b[49m\u001b[43msample_weight\u001b[49m\u001b[38;5;241;43m=\u001b[39;49m\u001b[43msample_weight\u001b[49m\u001b[43m,\u001b[49m\u001b[43m \u001b[49m\u001b[43mpos_label\u001b[49m\u001b[38;5;241;43m=\u001b[39;49m\u001b[43mpos_label\u001b[49m\u001b[43m,\u001b[49m\u001b[43m \u001b[49m\u001b[43mname\u001b[49m\u001b[38;5;241;43m=\u001b[39;49m\u001b[43mname\u001b[49m\n\u001b[0;32m    388\u001b[0m \u001b[43m    \u001b[49m\u001b[43m)\u001b[49m\n\u001b[0;32m    390\u001b[0m     fpr, tpr, _ \u001b[38;5;241m=\u001b[39m roc_curve(\n\u001b[0;32m    391\u001b[0m         y_true,\n\u001b[0;32m    392\u001b[0m         y_pred,\n\u001b[1;32m   (...)\u001b[0m\n\u001b[0;32m    395\u001b[0m         drop_intermediate\u001b[38;5;241m=\u001b[39mdrop_intermediate,\n\u001b[0;32m    396\u001b[0m     )\n\u001b[0;32m    397\u001b[0m     roc_auc \u001b[38;5;241m=\u001b[39m auc(fpr, tpr)\n",
      "File \u001b[1;32m~\\.conda\\envs\\cf-gpu\\lib\\site-packages\\sklearn\\utils\\_plotting.py:56\u001b[0m, in \u001b[0;36m_BinaryClassifierCurveDisplayMixin._validate_from_predictions_params\u001b[1;34m(cls, y_true, y_pred, sample_weight, pos_label, name)\u001b[0m\n\u001b[0;32m     50\u001b[0m     \u001b[38;5;28;01mraise\u001b[39;00m \u001b[38;5;167;01mValueError\u001b[39;00m(\n\u001b[0;32m     51\u001b[0m         \u001b[38;5;124mf\u001b[39m\u001b[38;5;124m\"\u001b[39m\u001b[38;5;124mThe target y is not binary. Got \u001b[39m\u001b[38;5;132;01m{\u001b[39;00mtype_of_target(y_true)\u001b[38;5;132;01m}\u001b[39;00m\u001b[38;5;124m type of\u001b[39m\u001b[38;5;124m\"\u001b[39m\n\u001b[0;32m     52\u001b[0m         \u001b[38;5;124m\"\u001b[39m\u001b[38;5;124m target.\u001b[39m\u001b[38;5;124m\"\u001b[39m\n\u001b[0;32m     53\u001b[0m     )\n\u001b[0;32m     55\u001b[0m check_consistent_length(y_true, y_pred, sample_weight)\n\u001b[1;32m---> 56\u001b[0m pos_label \u001b[38;5;241m=\u001b[39m \u001b[43m_check_pos_label_consistency\u001b[49m\u001b[43m(\u001b[49m\u001b[43mpos_label\u001b[49m\u001b[43m,\u001b[49m\u001b[43m \u001b[49m\u001b[43my_true\u001b[49m\u001b[43m)\u001b[49m\n\u001b[0;32m     58\u001b[0m name \u001b[38;5;241m=\u001b[39m name \u001b[38;5;28;01mif\u001b[39;00m name \u001b[38;5;129;01mis\u001b[39;00m \u001b[38;5;129;01mnot\u001b[39;00m \u001b[38;5;28;01mNone\u001b[39;00m \u001b[38;5;28;01melse\u001b[39;00m \u001b[38;5;124m\"\u001b[39m\u001b[38;5;124mClassifier\u001b[39m\u001b[38;5;124m\"\u001b[39m\n\u001b[0;32m     60\u001b[0m \u001b[38;5;28;01mreturn\u001b[39;00m pos_label, name\n",
      "File \u001b[1;32m~\\.conda\\envs\\cf-gpu\\lib\\site-packages\\sklearn\\utils\\validation.py:2245\u001b[0m, in \u001b[0;36m_check_pos_label_consistency\u001b[1;34m(pos_label, y_true)\u001b[0m\n\u001b[0;32m   2234\u001b[0m \u001b[38;5;28;01mif\u001b[39;00m pos_label \u001b[38;5;129;01mis\u001b[39;00m \u001b[38;5;28;01mNone\u001b[39;00m \u001b[38;5;129;01mand\u001b[39;00m (\n\u001b[0;32m   2235\u001b[0m     classes\u001b[38;5;241m.\u001b[39mdtype\u001b[38;5;241m.\u001b[39mkind \u001b[38;5;129;01min\u001b[39;00m \u001b[38;5;124m\"\u001b[39m\u001b[38;5;124mOUS\u001b[39m\u001b[38;5;124m\"\u001b[39m\n\u001b[0;32m   2236\u001b[0m     \u001b[38;5;129;01mor\u001b[39;00m \u001b[38;5;129;01mnot\u001b[39;00m (\n\u001b[1;32m   (...)\u001b[0m\n\u001b[0;32m   2242\u001b[0m     )\n\u001b[0;32m   2243\u001b[0m ):\n\u001b[0;32m   2244\u001b[0m     classes_repr \u001b[38;5;241m=\u001b[39m \u001b[38;5;124m\"\u001b[39m\u001b[38;5;124m, \u001b[39m\u001b[38;5;124m\"\u001b[39m\u001b[38;5;241m.\u001b[39mjoin([\u001b[38;5;28mrepr\u001b[39m(c) \u001b[38;5;28;01mfor\u001b[39;00m c \u001b[38;5;129;01min\u001b[39;00m classes\u001b[38;5;241m.\u001b[39mtolist()])\n\u001b[1;32m-> 2245\u001b[0m     \u001b[38;5;28;01mraise\u001b[39;00m \u001b[38;5;167;01mValueError\u001b[39;00m(\n\u001b[0;32m   2246\u001b[0m         \u001b[38;5;124mf\u001b[39m\u001b[38;5;124m\"\u001b[39m\u001b[38;5;124my_true takes value in \u001b[39m\u001b[38;5;130;01m{{\u001b[39;00m\u001b[38;5;132;01m{\u001b[39;00mclasses_repr\u001b[38;5;132;01m}\u001b[39;00m\u001b[38;5;130;01m}}\u001b[39;00m\u001b[38;5;124m and pos_label is not \u001b[39m\u001b[38;5;124m\"\u001b[39m\n\u001b[0;32m   2247\u001b[0m         \u001b[38;5;124m\"\u001b[39m\u001b[38;5;124mspecified: either make y_true take value in \u001b[39m\u001b[38;5;124m{\u001b[39m\u001b[38;5;124m0, 1} or \u001b[39m\u001b[38;5;124m\"\u001b[39m\n\u001b[0;32m   2248\u001b[0m         \u001b[38;5;124m\"\u001b[39m\u001b[38;5;124m{\u001b[39m\u001b[38;5;124m-1, 1} or pass pos_label explicitly.\u001b[39m\u001b[38;5;124m\"\u001b[39m\n\u001b[0;32m   2249\u001b[0m     )\n\u001b[0;32m   2250\u001b[0m \u001b[38;5;28;01melif\u001b[39;00m pos_label \u001b[38;5;129;01mis\u001b[39;00m \u001b[38;5;28;01mNone\u001b[39;00m:\n\u001b[0;32m   2251\u001b[0m     pos_label \u001b[38;5;241m=\u001b[39m \u001b[38;5;241m1\u001b[39m\n",
      "\u001b[1;31mValueError\u001b[0m: y_true takes value in {} and pos_label is not specified: either make y_true take value in {0, 1} or {-1, 1} or pass pos_label explicitly."
     ]
    },
    {
     "data": {
      "image/png": "[encoded data removed]",
      "text/plain": [
       "<Figure size 640x480 with 1 Axes>"
      ]
     },
     "metadata": {},
     "output_type": "display_data"
    }
   ],
   "source": [
    "import matplotlib.pyplot as plt\n",
    "\n",
    "# train_auc, train_true_labels, train_predictions = evaluate_model(model, complete_train_loader, metric, device)\n",
    "# model.train()\n",
    "# test_auc, test_true_labels, test_predictions = evaluate_model(model, complete_test_loader, metric, device)\n",
    "\n",
    "fig, ax = plt.subplots()\n",
    "\n",
    "# RocCurveDisplay.from_predictions(train_true_labels, train_predictions, name=\"Train Set (n=58)\", ax=ax)\n",
    "# RocCurveDisplay.from_predictions(test_true_labels, test_predictions, name=\"Test Set (n=15)\", ax=ax)\n",
    "RocCurveDisplay.from_predictions([], [], name=\"Complete Set (n=73)\", ax=ax, plot_chance_level=True)\n",
    "\n",
    "plt.show()"
   ]
  },
  {
   "cell_type": "code",
   "execution_count": null,
   "id": "d1a25839-aec2-49fd-9609-92e60c107970",
   "metadata": {},
   "outputs": [],
   "source": [
    "fig, ax = plt.subplots()\n",
    "\n",
    "PrecisionRecallDisplay.from_predictions(train_true_labels, train_predictions, name=\"Train Set (n=58)\", ax=ax)\n",
    "PrecisionRecallDisplay.from_predictions(test_true_labels, test_predictions, name=\"Test Set (n=15)\", ax=ax)\n",
    "PrecisionRecallDisplay.from_predictions(test_true_labels + train_true_labels, test_predictions + train_predictions, name=\"Complete Set (n=73)\", ax=ax, plot_chance_level=True)\n",
    "\n",
    "ax.set_ylim([0,1.02])\n",
    "ax.set_xlim([0,1.02])\n",
    "plt.show()"
   ]
  },
  {
   "cell_type": "code",
   "execution_count": null,
   "id": "7702a9ef-4861-4917-b399-0b1c286b7333",
   "metadata": {},
   "outputs": [],
   "source": [
    "precision, recall, thresholds = precision_recall_curve(test_true_labels + train_true_labels, test_predictions + train_predictions)\n",
    "# Use AUC function to calculate the area under the curve of precision recall curve\n",
    "auc_precision_recall = auc(recall, precision)\n",
    "print(auc_precision_recall)"
   ]
  },
  {
   "cell_type": "code",
   "execution_count": null,
   "id": "d307afcf-2a93-4ada-9a48-3e130cc40327",
   "metadata": {},
   "outputs": [],
   "source": []
  }
 ],
 "metadata": {
  "kernelspec": {
   "display_name": "Python 3 (ipykernel)",
   "language": "python",
   "name": "python3"
  },
  "language_info": {
   "codemirror_mode": {
    "name": "ipython",
    "version": 3
   },
   "file_extension": ".py",
   "mimetype": "text/x-python",
   "name": "python",
   "nbconvert_exporter": "python",
   "pygments_lexer": "ipython3",
   "version": "3.8.19"
  }
 },
 "nbformat": 4,
 "nbformat_minor": 5
}
